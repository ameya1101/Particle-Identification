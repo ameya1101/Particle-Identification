{
 "cells": [
  {
   "cell_type": "code",
   "execution_count": 137,
   "metadata": {},
   "outputs": [],
   "source": [
    "import numpy as np\n",
    "import matplotlib.pyplot as plt\n",
    "import pandas as pd\n",
    "import seaborn as sns\n",
    "import sklearn\n",
    "from sklearn.model_selection import train_test_split\n",
    "from sklearn.metrics import classification_report, accuracy_score\n",
    "from sklearn.externals import joblib "
   ]
  },
  {
   "cell_type": "code",
   "execution_count": 2,
   "metadata": {},
   "outputs": [],
   "source": [
    "data = pd.read_csv(\"pid-5M.csv\")"
   ]
  },
  {
   "cell_type": "code",
   "execution_count": 37,
   "metadata": {},
   "outputs": [
    {
     "data": {
      "text/html": [
       "<div>\n",
       "<style scoped>\n",
       "    .dataframe tbody tr th:only-of-type {\n",
       "        vertical-align: middle;\n",
       "    }\n",
       "\n",
       "    .dataframe tbody tr th {\n",
       "        vertical-align: top;\n",
       "    }\n",
       "\n",
       "    .dataframe thead th {\n",
       "        text-align: right;\n",
       "    }\n",
       "</style>\n",
       "<table border=\"1\" class=\"dataframe\">\n",
       "  <thead>\n",
       "    <tr style=\"text-align: right;\">\n",
       "      <th></th>\n",
       "      <th>p</th>\n",
       "      <th>theta</th>\n",
       "      <th>beta</th>\n",
       "      <th>nphe</th>\n",
       "      <th>ein</th>\n",
       "      <th>eout</th>\n",
       "    </tr>\n",
       "  </thead>\n",
       "  <tbody>\n",
       "    <tr>\n",
       "      <th>0</th>\n",
       "      <td>0.780041</td>\n",
       "      <td>1.081480</td>\n",
       "      <td>0.989962</td>\n",
       "      <td>0</td>\n",
       "      <td>0.000000</td>\n",
       "      <td>0.000000</td>\n",
       "    </tr>\n",
       "    <tr>\n",
       "      <th>1</th>\n",
       "      <td>0.260929</td>\n",
       "      <td>0.778892</td>\n",
       "      <td>0.902450</td>\n",
       "      <td>0</td>\n",
       "      <td>0.000000</td>\n",
       "      <td>0.000000</td>\n",
       "    </tr>\n",
       "    <tr>\n",
       "      <th>2</th>\n",
       "      <td>0.773022</td>\n",
       "      <td>0.185953</td>\n",
       "      <td>0.642428</td>\n",
       "      <td>4</td>\n",
       "      <td>0.101900</td>\n",
       "      <td>0.000000</td>\n",
       "    </tr>\n",
       "    <tr>\n",
       "      <th>3</th>\n",
       "      <td>0.476997</td>\n",
       "      <td>0.445561</td>\n",
       "      <td>0.951471</td>\n",
       "      <td>0</td>\n",
       "      <td>0.000000</td>\n",
       "      <td>0.000000</td>\n",
       "    </tr>\n",
       "    <tr>\n",
       "      <th>4</th>\n",
       "      <td>2.123290</td>\n",
       "      <td>0.337332</td>\n",
       "      <td>0.908652</td>\n",
       "      <td>0</td>\n",
       "      <td>0.034379</td>\n",
       "      <td>0.049256</td>\n",
       "    </tr>\n",
       "  </tbody>\n",
       "</table>\n",
       "</div>"
      ],
      "text/plain": [
       "          p     theta      beta  nphe       ein      eout\n",
       "0  0.780041  1.081480  0.989962     0  0.000000  0.000000\n",
       "1  0.260929  0.778892  0.902450     0  0.000000  0.000000\n",
       "2  0.773022  0.185953  0.642428     4  0.101900  0.000000\n",
       "3  0.476997  0.445561  0.951471     0  0.000000  0.000000\n",
       "4  2.123290  0.337332  0.908652     0  0.034379  0.049256"
      ]
     },
     "execution_count": 37,
     "metadata": {},
     "output_type": "execute_result"
    }
   ],
   "source": [
    "data.drop('id', axis=1).head()"
   ]
  },
  {
   "cell_type": "code",
   "execution_count": 4,
   "metadata": {},
   "outputs": [
    {
     "name": "stdout",
     "output_type": "stream",
     "text": [
      "<class 'pandas.core.frame.DataFrame'>\n",
      "RangeIndex: 5000000 entries, 0 to 4999999\n",
      "Data columns (total 7 columns):\n",
      "id       int64\n",
      "p        float64\n",
      "theta    float64\n",
      "beta     float64\n",
      "nphe     int64\n",
      "ein      float64\n",
      "eout     float64\n",
      "dtypes: float64(5), int64(2)\n",
      "memory usage: 267.0 MB\n"
     ]
    }
   ],
   "source": [
    "data.info()"
   ]
  },
  {
   "cell_type": "code",
   "execution_count": 5,
   "metadata": {},
   "outputs": [
    {
     "data": {
      "text/html": [
       "<div>\n",
       "<style scoped>\n",
       "    .dataframe tbody tr th:only-of-type {\n",
       "        vertical-align: middle;\n",
       "    }\n",
       "\n",
       "    .dataframe tbody tr th {\n",
       "        vertical-align: top;\n",
       "    }\n",
       "\n",
       "    .dataframe thead th {\n",
       "        text-align: right;\n",
       "    }\n",
       "</style>\n",
       "<table border=\"1\" class=\"dataframe\">\n",
       "  <thead>\n",
       "    <tr style=\"text-align: right;\">\n",
       "      <th></th>\n",
       "      <th>id</th>\n",
       "      <th>p</th>\n",
       "      <th>theta</th>\n",
       "      <th>beta</th>\n",
       "      <th>nphe</th>\n",
       "      <th>ein</th>\n",
       "      <th>eout</th>\n",
       "    </tr>\n",
       "  </thead>\n",
       "  <tbody>\n",
       "    <tr>\n",
       "      <th>count</th>\n",
       "      <td>5.000000e+06</td>\n",
       "      <td>5.000000e+06</td>\n",
       "      <td>5.000000e+06</td>\n",
       "      <td>5.000000e+06</td>\n",
       "      <td>5.000000e+06</td>\n",
       "      <td>5.000000e+06</td>\n",
       "      <td>5.000000e+06</td>\n",
       "    </tr>\n",
       "    <tr>\n",
       "      <th>mean</th>\n",
       "      <td>9.941839e+02</td>\n",
       "      <td>1.230053e+00</td>\n",
       "      <td>4.889321e-01</td>\n",
       "      <td>8.995796e-01</td>\n",
       "      <td>3.575243e+00</td>\n",
       "      <td>5.635883e-02</td>\n",
       "      <td>7.033195e-02</td>\n",
       "    </tr>\n",
       "    <tr>\n",
       "      <th>std</th>\n",
       "      <td>9.724034e+02</td>\n",
       "      <td>7.414895e-01</td>\n",
       "      <td>2.942161e-01</td>\n",
       "      <td>1.132321e-01</td>\n",
       "      <td>1.779236e+01</td>\n",
       "      <td>7.882675e-02</td>\n",
       "      <td>1.020604e-01</td>\n",
       "    </tr>\n",
       "    <tr>\n",
       "      <th>min</th>\n",
       "      <td>-1.100000e+01</td>\n",
       "      <td>2.101170e-01</td>\n",
       "      <td>9.222140e-02</td>\n",
       "      <td>5.500010e-01</td>\n",
       "      <td>0.000000e+00</td>\n",
       "      <td>0.000000e+00</td>\n",
       "      <td>0.000000e+00</td>\n",
       "    </tr>\n",
       "    <tr>\n",
       "      <th>25%</th>\n",
       "      <td>2.110000e+02</td>\n",
       "      <td>6.657510e-01</td>\n",
       "      <td>2.817420e-01</td>\n",
       "      <td>8.378760e-01</td>\n",
       "      <td>0.000000e+00</td>\n",
       "      <td>0.000000e+00</td>\n",
       "      <td>0.000000e+00</td>\n",
       "    </tr>\n",
       "    <tr>\n",
       "      <th>50%</th>\n",
       "      <td>2.110000e+02</td>\n",
       "      <td>1.066150e+00</td>\n",
       "      <td>4.048670e-01</td>\n",
       "      <td>9.461940e-01</td>\n",
       "      <td>0.000000e+00</td>\n",
       "      <td>3.442440e-02</td>\n",
       "      <td>4.417490e-02</td>\n",
       "    </tr>\n",
       "    <tr>\n",
       "      <th>75%</th>\n",
       "      <td>2.212000e+03</td>\n",
       "      <td>1.649650e+00</td>\n",
       "      <td>6.117800e-01</td>\n",
       "      <td>9.855910e-01</td>\n",
       "      <td>0.000000e+00</td>\n",
       "      <td>6.834520e-02</td>\n",
       "      <td>9.365990e-02</td>\n",
       "    </tr>\n",
       "    <tr>\n",
       "      <th>max</th>\n",
       "      <td>2.212000e+03</td>\n",
       "      <td>5.286950e+00</td>\n",
       "      <td>2.219270e+00</td>\n",
       "      <td>1.499590e+00</td>\n",
       "      <td>3.490000e+02</td>\n",
       "      <td>8.993820e-01</td>\n",
       "      <td>1.097410e+00</td>\n",
       "    </tr>\n",
       "  </tbody>\n",
       "</table>\n",
       "</div>"
      ],
      "text/plain": [
       "                 id             p         theta          beta          nphe  \\\n",
       "count  5.000000e+06  5.000000e+06  5.000000e+06  5.000000e+06  5.000000e+06   \n",
       "mean   9.941839e+02  1.230053e+00  4.889321e-01  8.995796e-01  3.575243e+00   \n",
       "std    9.724034e+02  7.414895e-01  2.942161e-01  1.132321e-01  1.779236e+01   \n",
       "min   -1.100000e+01  2.101170e-01  9.222140e-02  5.500010e-01  0.000000e+00   \n",
       "25%    2.110000e+02  6.657510e-01  2.817420e-01  8.378760e-01  0.000000e+00   \n",
       "50%    2.110000e+02  1.066150e+00  4.048670e-01  9.461940e-01  0.000000e+00   \n",
       "75%    2.212000e+03  1.649650e+00  6.117800e-01  9.855910e-01  0.000000e+00   \n",
       "max    2.212000e+03  5.286950e+00  2.219270e+00  1.499590e+00  3.490000e+02   \n",
       "\n",
       "                ein          eout  \n",
       "count  5.000000e+06  5.000000e+06  \n",
       "mean   5.635883e-02  7.033195e-02  \n",
       "std    7.882675e-02  1.020604e-01  \n",
       "min    0.000000e+00  0.000000e+00  \n",
       "25%    0.000000e+00  0.000000e+00  \n",
       "50%    3.442440e-02  4.417490e-02  \n",
       "75%    6.834520e-02  9.365990e-02  \n",
       "max    8.993820e-01  1.097410e+00  "
      ]
     },
     "execution_count": 5,
     "metadata": {},
     "output_type": "execute_result"
    }
   ],
   "source": [
    "data.describe()"
   ]
  },
  {
   "cell_type": "code",
   "execution_count": 6,
   "metadata": {},
   "outputs": [],
   "source": [
    "training_data, test_data = train_test_split(data, random_state=42, test_size=0.2)"
   ]
  },
  {
   "cell_type": "code",
   "execution_count": 10,
   "metadata": {},
   "outputs": [],
   "source": [
    "tdata = training_data.copy()"
   ]
  },
  {
   "cell_type": "markdown",
   "metadata": {},
   "source": [
    "### Visualising the Data"
   ]
  },
  {
   "cell_type": "code",
   "execution_count": 9,
   "metadata": {},
   "outputs": [
    {
     "data": {
      "text/html": [
       "<style  type=\"text/css\" >\n",
       "    #T_7540ed5e_8e38_11ea_9dbe_acde48001122row0_col0 {\n",
       "            background-color:  #b40426;\n",
       "        }    #T_7540ed5e_8e38_11ea_9dbe_acde48001122row0_col1 {\n",
       "            background-color:  #e2dad5;\n",
       "        }    #T_7540ed5e_8e38_11ea_9dbe_acde48001122row0_col2 {\n",
       "            background-color:  #7093f3;\n",
       "        }    #T_7540ed5e_8e38_11ea_9dbe_acde48001122row0_col3 {\n",
       "            background-color:  #3b4cc0;\n",
       "        }    #T_7540ed5e_8e38_11ea_9dbe_acde48001122row0_col4 {\n",
       "            background-color:  #3d50c3;\n",
       "        }    #T_7540ed5e_8e38_11ea_9dbe_acde48001122row0_col5 {\n",
       "            background-color:  #c4d5f3;\n",
       "        }    #T_7540ed5e_8e38_11ea_9dbe_acde48001122row0_col6 {\n",
       "            background-color:  #c5d6f2;\n",
       "        }    #T_7540ed5e_8e38_11ea_9dbe_acde48001122row1_col0 {\n",
       "            background-color:  #ecd3c5;\n",
       "        }    #T_7540ed5e_8e38_11ea_9dbe_acde48001122row1_col1 {\n",
       "            background-color:  #b40426;\n",
       "        }    #T_7540ed5e_8e38_11ea_9dbe_acde48001122row1_col2 {\n",
       "            background-color:  #3b4cc0;\n",
       "        }    #T_7540ed5e_8e38_11ea_9dbe_acde48001122row1_col3 {\n",
       "            background-color:  #ead5c9;\n",
       "        }    #T_7540ed5e_8e38_11ea_9dbe_acde48001122row1_col4 {\n",
       "            background-color:  #3b4cc0;\n",
       "        }    #T_7540ed5e_8e38_11ea_9dbe_acde48001122row1_col5 {\n",
       "            background-color:  #edd1c2;\n",
       "        }    #T_7540ed5e_8e38_11ea_9dbe_acde48001122row1_col6 {\n",
       "            background-color:  #f7b599;\n",
       "        }    #T_7540ed5e_8e38_11ea_9dbe_acde48001122row2_col0 {\n",
       "            background-color:  #8caffe;\n",
       "        }    #T_7540ed5e_8e38_11ea_9dbe_acde48001122row2_col1 {\n",
       "            background-color:  #3b4cc0;\n",
       "        }    #T_7540ed5e_8e38_11ea_9dbe_acde48001122row2_col2 {\n",
       "            background-color:  #b40426;\n",
       "        }    #T_7540ed5e_8e38_11ea_9dbe_acde48001122row2_col3 {\n",
       "            background-color:  #cad8ef;\n",
       "        }    #T_7540ed5e_8e38_11ea_9dbe_acde48001122row2_col4 {\n",
       "            background-color:  #5d7ce6;\n",
       "        }    #T_7540ed5e_8e38_11ea_9dbe_acde48001122row2_col5 {\n",
       "            background-color:  #3b4cc0;\n",
       "        }    #T_7540ed5e_8e38_11ea_9dbe_acde48001122row2_col6 {\n",
       "            background-color:  #3b4cc0;\n",
       "        }    #T_7540ed5e_8e38_11ea_9dbe_acde48001122row3_col0 {\n",
       "            background-color:  #3b4cc0;\n",
       "        }    #T_7540ed5e_8e38_11ea_9dbe_acde48001122row3_col1 {\n",
       "            background-color:  #dedcdb;\n",
       "        }    #T_7540ed5e_8e38_11ea_9dbe_acde48001122row3_col2 {\n",
       "            background-color:  #b7cff9;\n",
       "        }    #T_7540ed5e_8e38_11ea_9dbe_acde48001122row3_col3 {\n",
       "            background-color:  #b40426;\n",
       "        }    #T_7540ed5e_8e38_11ea_9dbe_acde48001122row3_col4 {\n",
       "            background-color:  #5673e0;\n",
       "        }    #T_7540ed5e_8e38_11ea_9dbe_acde48001122row3_col5 {\n",
       "            background-color:  #92b4fe;\n",
       "        }    #T_7540ed5e_8e38_11ea_9dbe_acde48001122row3_col6 {\n",
       "            background-color:  #b3cdfb;\n",
       "        }    #T_7540ed5e_8e38_11ea_9dbe_acde48001122row4_col0 {\n",
       "            background-color:  #bad0f8;\n",
       "        }    #T_7540ed5e_8e38_11ea_9dbe_acde48001122row4_col1 {\n",
       "            background-color:  #a2c1ff;\n",
       "        }    #T_7540ed5e_8e38_11ea_9dbe_acde48001122row4_col2 {\n",
       "            background-color:  #bcd2f7;\n",
       "        }    #T_7540ed5e_8e38_11ea_9dbe_acde48001122row4_col3 {\n",
       "            background-color:  #cad8ef;\n",
       "        }    #T_7540ed5e_8e38_11ea_9dbe_acde48001122row4_col4 {\n",
       "            background-color:  #b40426;\n",
       "        }    #T_7540ed5e_8e38_11ea_9dbe_acde48001122row4_col5 {\n",
       "            background-color:  #8fb1fe;\n",
       "        }    #T_7540ed5e_8e38_11ea_9dbe_acde48001122row4_col6 {\n",
       "            background-color:  #8caffe;\n",
       "        }    #T_7540ed5e_8e38_11ea_9dbe_acde48001122row5_col0 {\n",
       "            background-color:  #e5d8d1;\n",
       "        }    #T_7540ed5e_8e38_11ea_9dbe_acde48001122row5_col1 {\n",
       "            background-color:  #f5c4ac;\n",
       "        }    #T_7540ed5e_8e38_11ea_9dbe_acde48001122row5_col2 {\n",
       "            background-color:  #6282ea;\n",
       "        }    #T_7540ed5e_8e38_11ea_9dbe_acde48001122row5_col3 {\n",
       "            background-color:  #c5d6f2;\n",
       "        }    #T_7540ed5e_8e38_11ea_9dbe_acde48001122row5_col4 {\n",
       "            background-color:  #4b64d5;\n",
       "        }    #T_7540ed5e_8e38_11ea_9dbe_acde48001122row5_col5 {\n",
       "            background-color:  #b40426;\n",
       "        }    #T_7540ed5e_8e38_11ea_9dbe_acde48001122row5_col6 {\n",
       "            background-color:  #d9dce1;\n",
       "        }    #T_7540ed5e_8e38_11ea_9dbe_acde48001122row6_col0 {\n",
       "            background-color:  #e5d8d1;\n",
       "        }    #T_7540ed5e_8e38_11ea_9dbe_acde48001122row6_col1 {\n",
       "            background-color:  #f7a889;\n",
       "        }    #T_7540ed5e_8e38_11ea_9dbe_acde48001122row6_col2 {\n",
       "            background-color:  #5f7fe8;\n",
       "        }    #T_7540ed5e_8e38_11ea_9dbe_acde48001122row6_col3 {\n",
       "            background-color:  #dadce0;\n",
       "        }    #T_7540ed5e_8e38_11ea_9dbe_acde48001122row6_col4 {\n",
       "            background-color:  #455cce;\n",
       "        }    #T_7540ed5e_8e38_11ea_9dbe_acde48001122row6_col5 {\n",
       "            background-color:  #d7dce3;\n",
       "        }    #T_7540ed5e_8e38_11ea_9dbe_acde48001122row6_col6 {\n",
       "            background-color:  #b40426;\n",
       "        }</style>  \n",
       "<table id=\"T_7540ed5e_8e38_11ea_9dbe_acde48001122\" > \n",
       "<thead>    <tr> \n",
       "        <th class=\"blank level0\" ></th> \n",
       "        <th class=\"col_heading level0 col0\" >id</th> \n",
       "        <th class=\"col_heading level0 col1\" >p</th> \n",
       "        <th class=\"col_heading level0 col2\" >theta</th> \n",
       "        <th class=\"col_heading level0 col3\" >beta</th> \n",
       "        <th class=\"col_heading level0 col4\" >nphe</th> \n",
       "        <th class=\"col_heading level0 col5\" >ein</th> \n",
       "        <th class=\"col_heading level0 col6\" >eout</th> \n",
       "    </tr></thead> \n",
       "<tbody>    <tr> \n",
       "        <th id=\"T_7540ed5e_8e38_11ea_9dbe_acde48001122level0_row0\" class=\"row_heading level0 row0\" >id</th> \n",
       "        <td id=\"T_7540ed5e_8e38_11ea_9dbe_acde48001122row0_col0\" class=\"data row0 col0\" >1</td> \n",
       "        <td id=\"T_7540ed5e_8e38_11ea_9dbe_acde48001122row0_col1\" class=\"data row0 col1\" >0.246778</td> \n",
       "        <td id=\"T_7540ed5e_8e38_11ea_9dbe_acde48001122row0_col2\" class=\"data row0 col2\" >-0.300644</td> \n",
       "        <td id=\"T_7540ed5e_8e38_11ea_9dbe_acde48001122row0_col3\" class=\"data row0 col3\" >-0.72898</td> \n",
       "        <td id=\"T_7540ed5e_8e38_11ea_9dbe_acde48001122row0_col4\" class=\"data row0 col4\" >-0.0701164</td> \n",
       "        <td id=\"T_7540ed5e_8e38_11ea_9dbe_acde48001122row0_col5\" class=\"data row0 col5\" >0.195664</td> \n",
       "        <td id=\"T_7540ed5e_8e38_11ea_9dbe_acde48001122row0_col6\" class=\"data row0 col6\" >0.191772</td> \n",
       "    </tr>    <tr> \n",
       "        <th id=\"T_7540ed5e_8e38_11ea_9dbe_acde48001122level0_row1\" class=\"row_heading level0 row1\" >p</th> \n",
       "        <td id=\"T_7540ed5e_8e38_11ea_9dbe_acde48001122row1_col0\" class=\"data row1 col0\" >0.246778</td> \n",
       "        <td id=\"T_7540ed5e_8e38_11ea_9dbe_acde48001122row1_col1\" class=\"data row1 col1\" >1</td> \n",
       "        <td id=\"T_7540ed5e_8e38_11ea_9dbe_acde48001122row1_col2\" class=\"data row1 col2\" >-0.568535</td> \n",
       "        <td id=\"T_7540ed5e_8e38_11ea_9dbe_acde48001122row1_col3\" class=\"data row1 col3\" >0.22703</td> \n",
       "        <td id=\"T_7540ed5e_8e38_11ea_9dbe_acde48001122row1_col4\" class=\"data row1 col4\" >-0.0802463</td> \n",
       "        <td id=\"T_7540ed5e_8e38_11ea_9dbe_acde48001122row1_col5\" class=\"data row1 col5\" >0.413222</td> \n",
       "        <td id=\"T_7540ed5e_8e38_11ea_9dbe_acde48001122row1_col6\" class=\"data row1 col6\" >0.547047</td> \n",
       "    </tr>    <tr> \n",
       "        <th id=\"T_7540ed5e_8e38_11ea_9dbe_acde48001122level0_row2\" class=\"row_heading level0 row2\" >theta</th> \n",
       "        <td id=\"T_7540ed5e_8e38_11ea_9dbe_acde48001122row2_col0\" class=\"data row2 col0\" >-0.300644</td> \n",
       "        <td id=\"T_7540ed5e_8e38_11ea_9dbe_acde48001122row2_col1\" class=\"data row2 col1\" >-0.568535</td> \n",
       "        <td id=\"T_7540ed5e_8e38_11ea_9dbe_acde48001122row2_col2\" class=\"data row2 col2\" >1</td> \n",
       "        <td id=\"T_7540ed5e_8e38_11ea_9dbe_acde48001122row2_col3\" class=\"data row2 col3\" >0.0183787</td> \n",
       "        <td id=\"T_7540ed5e_8e38_11ea_9dbe_acde48001122row2_col4\" class=\"data row2 col4\" >0.0395051</td> \n",
       "        <td id=\"T_7540ed5e_8e38_11ea_9dbe_acde48001122row2_col5\" class=\"data row2 col5\" >-0.369932</td> \n",
       "        <td id=\"T_7540ed5e_8e38_11ea_9dbe_acde48001122row2_col6\" class=\"data row2 col6\" >-0.381207</td> \n",
       "    </tr>    <tr> \n",
       "        <th id=\"T_7540ed5e_8e38_11ea_9dbe_acde48001122level0_row3\" class=\"row_heading level0 row3\" >beta</th> \n",
       "        <td id=\"T_7540ed5e_8e38_11ea_9dbe_acde48001122row3_col0\" class=\"data row3 col0\" >-0.72898</td> \n",
       "        <td id=\"T_7540ed5e_8e38_11ea_9dbe_acde48001122row3_col1\" class=\"data row3 col1\" >0.22703</td> \n",
       "        <td id=\"T_7540ed5e_8e38_11ea_9dbe_acde48001122row3_col2\" class=\"data row3 col2\" >0.0183787</td> \n",
       "        <td id=\"T_7540ed5e_8e38_11ea_9dbe_acde48001122row3_col3\" class=\"data row3 col3\" >1</td> \n",
       "        <td id=\"T_7540ed5e_8e38_11ea_9dbe_acde48001122row3_col4\" class=\"data row3 col4\" >0.0172253</td> \n",
       "        <td id=\"T_7540ed5e_8e38_11ea_9dbe_acde48001122row3_col5\" class=\"data row3 col5\" >-0.00892324</td> \n",
       "        <td id=\"T_7540ed5e_8e38_11ea_9dbe_acde48001122row3_col6\" class=\"data row3 col6\" >0.115942</td> \n",
       "    </tr>    <tr> \n",
       "        <th id=\"T_7540ed5e_8e38_11ea_9dbe_acde48001122level0_row4\" class=\"row_heading level0 row4\" >nphe</th> \n",
       "        <td id=\"T_7540ed5e_8e38_11ea_9dbe_acde48001122row4_col0\" class=\"data row4 col0\" >-0.0701164</td> \n",
       "        <td id=\"T_7540ed5e_8e38_11ea_9dbe_acde48001122row4_col1\" class=\"data row4 col1\" >-0.0802463</td> \n",
       "        <td id=\"T_7540ed5e_8e38_11ea_9dbe_acde48001122row4_col2\" class=\"data row4 col2\" >0.0395051</td> \n",
       "        <td id=\"T_7540ed5e_8e38_11ea_9dbe_acde48001122row4_col3\" class=\"data row4 col3\" >0.0172253</td> \n",
       "        <td id=\"T_7540ed5e_8e38_11ea_9dbe_acde48001122row4_col4\" class=\"data row4 col4\" >1</td> \n",
       "        <td id=\"T_7540ed5e_8e38_11ea_9dbe_acde48001122row4_col5\" class=\"data row4 col5\" >-0.0205928</td> \n",
       "        <td id=\"T_7540ed5e_8e38_11ea_9dbe_acde48001122row4_col6\" class=\"data row4 col6\" >-0.0399411</td> \n",
       "    </tr>    <tr> \n",
       "        <th id=\"T_7540ed5e_8e38_11ea_9dbe_acde48001122level0_row5\" class=\"row_heading level0 row5\" >ein</th> \n",
       "        <td id=\"T_7540ed5e_8e38_11ea_9dbe_acde48001122row5_col0\" class=\"data row5 col0\" >0.195664</td> \n",
       "        <td id=\"T_7540ed5e_8e38_11ea_9dbe_acde48001122row5_col1\" class=\"data row5 col1\" >0.413222</td> \n",
       "        <td id=\"T_7540ed5e_8e38_11ea_9dbe_acde48001122row5_col2\" class=\"data row5 col2\" >-0.369932</td> \n",
       "        <td id=\"T_7540ed5e_8e38_11ea_9dbe_acde48001122row5_col3\" class=\"data row5 col3\" >-0.00892324</td> \n",
       "        <td id=\"T_7540ed5e_8e38_11ea_9dbe_acde48001122row5_col4\" class=\"data row5 col4\" >-0.0205928</td> \n",
       "        <td id=\"T_7540ed5e_8e38_11ea_9dbe_acde48001122row5_col5\" class=\"data row5 col5\" >1</td> \n",
       "        <td id=\"T_7540ed5e_8e38_11ea_9dbe_acde48001122row5_col6\" class=\"data row5 col6\" >0.288058</td> \n",
       "    </tr>    <tr> \n",
       "        <th id=\"T_7540ed5e_8e38_11ea_9dbe_acde48001122level0_row6\" class=\"row_heading level0 row6\" >eout</th> \n",
       "        <td id=\"T_7540ed5e_8e38_11ea_9dbe_acde48001122row6_col0\" class=\"data row6 col0\" >0.191772</td> \n",
       "        <td id=\"T_7540ed5e_8e38_11ea_9dbe_acde48001122row6_col1\" class=\"data row6 col1\" >0.547047</td> \n",
       "        <td id=\"T_7540ed5e_8e38_11ea_9dbe_acde48001122row6_col2\" class=\"data row6 col2\" >-0.381207</td> \n",
       "        <td id=\"T_7540ed5e_8e38_11ea_9dbe_acde48001122row6_col3\" class=\"data row6 col3\" >0.115942</td> \n",
       "        <td id=\"T_7540ed5e_8e38_11ea_9dbe_acde48001122row6_col4\" class=\"data row6 col4\" >-0.0399411</td> \n",
       "        <td id=\"T_7540ed5e_8e38_11ea_9dbe_acde48001122row6_col5\" class=\"data row6 col5\" >0.288058</td> \n",
       "        <td id=\"T_7540ed5e_8e38_11ea_9dbe_acde48001122row6_col6\" class=\"data row6 col6\" >1</td> \n",
       "    </tr></tbody> \n",
       "</table> "
      ],
      "text/plain": [
       "<pandas.io.formats.style.Styler at 0xa1435b9e8>"
      ]
     },
     "execution_count": 9,
     "metadata": {},
     "output_type": "execute_result"
    }
   ],
   "source": [
    "corr = tdata.corr()\n",
    "corr.style.background_gradient(cmap='coolwarm')"
   ]
  },
  {
   "cell_type": "code",
   "execution_count": 10,
   "metadata": {},
   "outputs": [
    {
     "data": {
      "image/png": "[encoded data removed]",
      "text/plain": [
       "<Figure size 432x288 with 1 Axes>"
      ]
     },
     "metadata": {},
     "output_type": "display_data"
    }
   ],
   "source": [
    "plt.scatter(tdata['p'], tdata['beta'])\n",
    "plt.xlabel('Momentum')\n",
    "plt.ylabel('Beta angle')\n",
    "plt.show()"
   ]
  },
  {
   "cell_type": "code",
   "execution_count": 139,
   "metadata": {},
   "outputs": [
    {
     "name": "stderr",
     "output_type": "stream",
     "text": [
      "/Users/Ameya/anaconda3/lib/python3.6/site-packages/matplotlib/axes/_axes.py:6462: UserWarning: The 'normed' kwarg is deprecated, and has been replaced by the 'density' kwarg.\n",
      "  warnings.warn(\"The 'normed' kwarg is deprecated, and has been \"\n"
     ]
    },
    {
     "data": {
      "text/plain": [
       "Text(0.5,1,'Momentum Distribution')"
      ]
     },
     "execution_count": 139,
     "metadata": {},
     "output_type": "execute_result"
    },
    {
     "data": {
      "image/png": "[encoded data removed]",
      "text/plain": [
       "<Figure size 432x288 with 1 Axes>"
      ]
     },
     "metadata": {},
     "output_type": "display_data"
    }
   ],
   "source": [
    "sns.distplot(data['p'], hist=True, kde=True, color='c')\n",
    "plt.xlabel('Momentum')\n",
    "plt.ylabel('Feature Value')\n",
    "plt.title('Momentum Distribution')"
   ]
  },
  {
   "cell_type": "code",
   "execution_count": 14,
   "metadata": {},
   "outputs": [
    {
     "data": {
      "text/plain": [
       "id       0\n",
       "p        0\n",
       "theta    0\n",
       "beta     0\n",
       "nphe     0\n",
       "ein      0\n",
       "eout     0\n",
       "dtype: int64"
      ]
     },
     "execution_count": 14,
     "metadata": {},
     "output_type": "execute_result"
    }
   ],
   "source": [
    "tdata.isnull().sum()"
   ]
  },
  {
   "cell_type": "code",
   "execution_count": 11,
   "metadata": {},
   "outputs": [],
   "source": [
    "X_train = training_data.drop('id', axis=1)\n",
    "y_train = training_data['id']"
   ]
  },
  {
   "cell_type": "code",
   "execution_count": 12,
   "metadata": {},
   "outputs": [],
   "source": [
    "X_test = test_data.drop('id', axis=1)\n",
    "y_test = test_data['id']"
   ]
  },
  {
   "cell_type": "markdown",
   "metadata": {},
   "source": [
    "### Stochastic Gradient Classifier"
   ]
  },
  {
   "cell_type": "code",
   "execution_count": 13,
   "metadata": {},
   "outputs": [],
   "source": [
    "from sklearn.linear_model import SGDClassifier\n",
    "\n",
    "sgd_clf = SGDClassifier(loss='hinge', penalty='elasticnet')"
   ]
  },
  {
   "cell_type": "code",
   "execution_count": 14,
   "metadata": {},
   "outputs": [
    {
     "name": "stderr",
     "output_type": "stream",
     "text": [
      "/Users/Ameya/anaconda3/lib/python3.6/site-packages/sklearn/linear_model/stochastic_gradient.py:166: FutureWarning: max_iter and tol parameters have been added in SGDClassifier in 0.19. If both are left unset, they default to max_iter=5 and tol=None. If tol is not None, max_iter defaults to max_iter=1000. From 0.21, default max_iter will be 1000, and default tol will be 1e-3.\n",
      "  FutureWarning)\n"
     ]
    },
    {
     "data": {
      "text/plain": [
       "SGDClassifier(alpha=0.0001, average=False, class_weight=None,\n",
       "       early_stopping=False, epsilon=0.1, eta0=0.0, fit_intercept=True,\n",
       "       l1_ratio=0.15, learning_rate='optimal', loss='hinge', max_iter=None,\n",
       "       n_iter=None, n_iter_no_change=5, n_jobs=None, penalty='elasticnet',\n",
       "       power_t=0.5, random_state=None, shuffle=True, tol=None,\n",
       "       validation_fraction=0.1, verbose=0, warm_start=False)"
      ]
     },
     "execution_count": 14,
     "metadata": {},
     "output_type": "execute_result"
    }
   ],
   "source": [
    "sgd_clf.fit(X_train, y_train)"
   ]
  },
  {
   "cell_type": "code",
   "execution_count": 15,
   "metadata": {
    "scrolled": false
   },
   "outputs": [
    {
     "name": "stderr",
     "output_type": "stream",
     "text": [
      "/Users/Ameya/anaconda3/lib/python3.6/site-packages/sklearn/metrics/classification.py:1143: UndefinedMetricWarning: Precision and F-score are ill-defined and being set to 0.0 in labels with no predicted samples.\n",
      "  'precision', 'predicted', average, warn_for)\n"
     ]
    },
    {
     "name": "stdout",
     "output_type": "stream",
     "text": [
      "              precision    recall  f1-score   support\n",
      "\n",
      "         -11      0.000     0.000     0.000      3026\n",
      "         211      0.939     0.969     0.954    561856\n",
      "         321      0.000     0.000     0.000     46373\n",
      "        2212      0.918     0.992     0.954    388745\n",
      "\n",
      "   micro avg      0.930     0.930     0.930   1000000\n",
      "   macro avg      0.464     0.490     0.477   1000000\n",
      "weighted avg      0.885     0.930     0.907   1000000\n",
      "\n"
     ]
    }
   ],
   "source": [
    "print(classification_report(y_test, sgd_clf.predict(X_test), digits=3))"
   ]
  },
  {
   "cell_type": "code",
   "execution_count": 16,
   "metadata": {
    "scrolled": true
   },
   "outputs": [
    {
     "name": "stdout",
     "output_type": "stream",
     "text": [
      "0.930263\n"
     ]
    }
   ],
   "source": [
    "print(accuracy_score(y_test, sgd_clf.predict(X_test)))"
   ]
  },
  {
   "cell_type": "markdown",
   "metadata": {},
   "source": [
    "### AdaBoost Classifier"
   ]
  },
  {
   "cell_type": "code",
   "execution_count": 27,
   "metadata": {},
   "outputs": [],
   "source": [
    "from sklearn.ensemble import AdaBoostClassifier\n",
    "\n",
    "ada_clf = AdaBoostClassifier()"
   ]
  },
  {
   "cell_type": "code",
   "execution_count": 28,
   "metadata": {},
   "outputs": [
    {
     "data": {
      "text/plain": [
       "AdaBoostClassifier(algorithm='SAMME.R', base_estimator=None,\n",
       "          learning_rate=1.0, n_estimators=50, random_state=None)"
      ]
     },
     "execution_count": 28,
     "metadata": {},
     "output_type": "execute_result"
    }
   ],
   "source": [
    "ada_clf.fit(X_train, y_train)"
   ]
  },
  {
   "cell_type": "code",
   "execution_count": 30,
   "metadata": {},
   "outputs": [
    {
     "name": "stdout",
     "output_type": "stream",
     "text": [
      "              precision    recall  f1-score   support\n",
      "\n",
      "         -11      0.115     0.424     0.180      3026\n",
      "         211      0.943     0.970     0.956    561856\n",
      "         321      0.842     0.298     0.440     46373\n",
      "        2212      0.972     0.987     0.979    388745\n",
      "\n",
      "   micro avg      0.943     0.943     0.943   1000000\n",
      "   macro avg      0.718     0.669     0.639   1000000\n",
      "weighted avg      0.947     0.943     0.939   1000000\n",
      "\n"
     ]
    }
   ],
   "source": [
    "print(classification_report(y_test, ada_clf.predict(X_test), digits=3))"
   ]
  },
  {
   "cell_type": "code",
   "execution_count": 31,
   "metadata": {},
   "outputs": [
    {
     "name": "stdout",
     "output_type": "stream",
     "text": [
      "0.943385\n"
     ]
    }
   ],
   "source": [
    "print(accuracy_score(y_test, ada_clf.predict(X_test)))"
   ]
  },
  {
   "cell_type": "markdown",
   "metadata": {},
   "source": [
    "### Decision Tree Classifier"
   ]
  },
  {
   "cell_type": "code",
   "execution_count": 17,
   "metadata": {},
   "outputs": [],
   "source": [
    "from sklearn.tree import DecisionTreeClassifier\n",
    "\n",
    "tree_clf = DecisionTreeClassifier(max_depth=4)"
   ]
  },
  {
   "cell_type": "code",
   "execution_count": 33,
   "metadata": {},
   "outputs": [
    {
     "data": {
      "text/plain": [
       "DecisionTreeClassifier(class_weight=None, criterion='gini', max_depth=4,\n",
       "            max_features=None, max_leaf_nodes=None,\n",
       "            min_impurity_decrease=0.0, min_impurity_split=None,\n",
       "            min_samples_leaf=1, min_samples_split=2,\n",
       "            min_weight_fraction_leaf=0.0, presort=False, random_state=None,\n",
       "            splitter='best')"
      ]
     },
     "execution_count": 33,
     "metadata": {},
     "output_type": "execute_result"
    }
   ],
   "source": [
    "tree_clf.fit(X_train, y_train)"
   ]
  },
  {
   "cell_type": "code",
   "execution_count": 34,
   "metadata": {},
   "outputs": [
    {
     "name": "stdout",
     "output_type": "stream",
     "text": [
      "              precision    recall  f1-score   support\n",
      "\n",
      "         -11      0.743     0.180     0.290      3026\n",
      "         211      0.960     0.982     0.971    561856\n",
      "         321      0.747     0.476     0.582     46373\n",
      "        2212      0.967     0.983     0.975    388745\n",
      "\n",
      "   micro avg      0.956     0.956     0.956   1000000\n",
      "   macro avg      0.854     0.655     0.704   1000000\n",
      "weighted avg      0.952     0.956     0.952   1000000\n",
      "\n"
     ]
    }
   ],
   "source": [
    "print(classification_report(y_test, tree_clf.predict(X_test), digits=3))"
   ]
  },
  {
   "cell_type": "code",
   "execution_count": 35,
   "metadata": {},
   "outputs": [
    {
     "name": "stdout",
     "output_type": "stream",
     "text": [
      "0.956471\n"
     ]
    }
   ],
   "source": [
    "print(accuracy_score(y_test, tree_clf.predict(X_test)))"
   ]
  },
  {
   "cell_type": "markdown",
   "metadata": {},
   "source": [
    "### Random Forest Classifier"
   ]
  },
  {
   "cell_type": "code",
   "execution_count": 18,
   "metadata": {},
   "outputs": [],
   "source": [
    "from sklearn.ensemble import RandomForestClassifier\n",
    "\n",
    "rf_clf = RandomForestClassifier()"
   ]
  },
  {
   "cell_type": "code",
   "execution_count": 19,
   "metadata": {},
   "outputs": [
    {
     "name": "stderr",
     "output_type": "stream",
     "text": [
      "/Users/Ameya/anaconda3/lib/python3.6/site-packages/sklearn/ensemble/forest.py:246: FutureWarning: The default value of n_estimators will change from 10 in version 0.20 to 100 in 0.22.\n",
      "  \"10 in version 0.20 to 100 in 0.22.\", FutureWarning)\n"
     ]
    },
    {
     "data": {
      "text/plain": [
       "RandomForestClassifier(bootstrap=True, class_weight=None, criterion='gini',\n",
       "            max_depth=None, max_features='auto', max_leaf_nodes=None,\n",
       "            min_impurity_decrease=0.0, min_impurity_split=None,\n",
       "            min_samples_leaf=1, min_samples_split=2,\n",
       "            min_weight_fraction_leaf=0.0, n_estimators=10, n_jobs=None,\n",
       "            oob_score=False, random_state=None, verbose=0,\n",
       "            warm_start=False)"
      ]
     },
     "execution_count": 19,
     "metadata": {},
     "output_type": "execute_result"
    }
   ],
   "source": [
    "rf_clf.fit(X_train, y_train)"
   ]
  },
  {
   "cell_type": "code",
   "execution_count": 20,
   "metadata": {},
   "outputs": [
    {
     "name": "stdout",
     "output_type": "stream",
     "text": [
      "              precision    recall  f1-score   support\n",
      "\n",
      "         -11      0.806     0.651     0.721      3026\n",
      "         211      0.974     0.981     0.977    561856\n",
      "         321      0.791     0.700     0.743     46373\n",
      "        2212      0.985     0.989     0.987    388745\n",
      "\n",
      "   micro avg      0.970     0.970     0.970   1000000\n",
      "   macro avg      0.889     0.830     0.857   1000000\n",
      "weighted avg      0.969     0.970     0.969   1000000\n",
      "\n"
     ]
    }
   ],
   "source": [
    "print(classification_report(y_test, rf_clf.predict(X_test), digits=3))"
   ]
  },
  {
   "cell_type": "code",
   "execution_count": 21,
   "metadata": {},
   "outputs": [
    {
     "name": "stdout",
     "output_type": "stream",
     "text": [
      "0.97003\n"
     ]
    }
   ],
   "source": [
    "print(accuracy_score(y_test, rf_clf.predict(X_test)))"
   ]
  },
  {
   "cell_type": "markdown",
   "metadata": {},
   "source": [
    "### Saving the Best Model"
   ]
  },
  {
   "cell_type": "code",
   "execution_count": 34,
   "metadata": {},
   "outputs": [],
   "source": [
    "best_model = rf_clf"
   ]
  },
  {
   "cell_type": "code",
   "execution_count": 136,
   "metadata": {},
   "outputs": [
    {
     "data": {
      "text/plain": [
       "['best_model.pkl']"
      ]
     },
     "execution_count": 136,
     "metadata": {},
     "output_type": "execute_result"
    }
   ],
   "source": [
    "joblib.dump(best_model, 'best_model.pkl')"
   ]
  },
  {
   "cell_type": "code",
   "execution_count": null,
   "metadata": {},
   "outputs": [],
   "source": []
  }
 ],
 "metadata": {
  "kernelspec": {
   "display_name": "Python 3",
   "language": "python",
   "name": "python3"
  },
  "language_info": {
   "codemirror_mode": {
    "name": "ipython",
    "version": 3
   },
   "file_extension": ".py",
   "mimetype": "text/x-python",
   "name": "python",
   "nbconvert_exporter": "python",
   "pygments_lexer": "ipython3",
   "version": "3.6.8"
  }
 },
 "nbformat": 4,
 "nbformat_minor": 2
}
